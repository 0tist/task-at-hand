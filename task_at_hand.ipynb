{
  "nbformat": 4,
  "nbformat_minor": 0,
  "metadata": {
    "colab": {
      "name": "task-at-hand.ipynb",
      "provenance": [],
      "collapsed_sections": []
    },
    "kernelspec": {
      "name": "python3",
      "display_name": "Python 3"
    },
    "language_info": {
      "name": "python"
    },
    "accelerator": "GPU",
    "widgets": {
      "application/vnd.jupyter.widget-state+json": {
        "c9fc258fa74049d8a556e95f3a8085d3": {
          "model_module": "@jupyter-widgets/controls",
          "model_name": "HBoxModel",
          "model_module_version": "1.5.0",
          "state": {
            "_dom_classes": [],
            "_model_module": "@jupyter-widgets/controls",
            "_model_module_version": "1.5.0",
            "_model_name": "HBoxModel",
            "_view_count": null,
            "_view_module": "@jupyter-widgets/controls",
            "_view_module_version": "1.5.0",
            "_view_name": "HBoxView",
            "box_style": "",
            "children": [
              "IPY_MODEL_358ab7de92484660955972519925bfea",
              "IPY_MODEL_4db5720bfcb24121b8bd5dea0a9d3936",
              "IPY_MODEL_93484865bc314f54a7fbf8233a17f9e6"
            ],
            "layout": "IPY_MODEL_695c57ea3cae4d6db6def7d1fcac67dd"
          }
        },
        "358ab7de92484660955972519925bfea": {
          "model_module": "@jupyter-widgets/controls",
          "model_name": "HTMLModel",
          "model_module_version": "1.5.0",
          "state": {
            "_dom_classes": [],
            "_model_module": "@jupyter-widgets/controls",
            "_model_module_version": "1.5.0",
            "_model_name": "HTMLModel",
            "_view_count": null,
            "_view_module": "@jupyter-widgets/controls",
            "_view_module_version": "1.5.0",
            "_view_name": "HTMLView",
            "description": "",
            "description_tooltip": null,
            "layout": "IPY_MODEL_405e901ae03b47bfbee2158196941e48",
            "placeholder": "​",
            "style": "IPY_MODEL_28609524a0c1411fa1b243c58231e01b",
            "value": ""
          }
        },
        "4db5720bfcb24121b8bd5dea0a9d3936": {
          "model_module": "@jupyter-widgets/controls",
          "model_name": "FloatProgressModel",
          "model_module_version": "1.5.0",
          "state": {
            "_dom_classes": [],
            "_model_module": "@jupyter-widgets/controls",
            "_model_module_version": "1.5.0",
            "_model_name": "FloatProgressModel",
            "_view_count": null,
            "_view_module": "@jupyter-widgets/controls",
            "_view_module_version": "1.5.0",
            "_view_name": "ProgressView",
            "bar_style": "success",
            "description": "",
            "description_tooltip": null,
            "layout": "IPY_MODEL_c10f0180de8c4845ba88db573edda43f",
            "max": 170498071,
            "min": 0,
            "orientation": "horizontal",
            "style": "IPY_MODEL_0402d17acf0a4c5f8a8d5020eb3f62d5",
            "value": 170498071
          }
        },
        "93484865bc314f54a7fbf8233a17f9e6": {
          "model_module": "@jupyter-widgets/controls",
          "model_name": "HTMLModel",
          "model_module_version": "1.5.0",
          "state": {
            "_dom_classes": [],
            "_model_module": "@jupyter-widgets/controls",
            "_model_module_version": "1.5.0",
            "_model_name": "HTMLModel",
            "_view_count": null,
            "_view_module": "@jupyter-widgets/controls",
            "_view_module_version": "1.5.0",
            "_view_name": "HTMLView",
            "description": "",
            "description_tooltip": null,
            "layout": "IPY_MODEL_f78667a6cf9d47f582115b8a50bcce20",
            "placeholder": "​",
            "style": "IPY_MODEL_9c8090dabbf74b8fa78365ac35a630ff",
            "value": " 170499072/? [00:02&lt;00:00, 88434918.82it/s]"
          }
        },
        "695c57ea3cae4d6db6def7d1fcac67dd": {
          "model_module": "@jupyter-widgets/base",
          "model_name": "LayoutModel",
          "model_module_version": "1.2.0",
          "state": {
            "_model_module": "@jupyter-widgets/base",
            "_model_module_version": "1.2.0",
            "_model_name": "LayoutModel",
            "_view_count": null,
            "_view_module": "@jupyter-widgets/base",
            "_view_module_version": "1.2.0",
            "_view_name": "LayoutView",
            "align_content": null,
            "align_items": null,
            "align_self": null,
            "border": null,
            "bottom": null,
            "display": null,
            "flex": null,
            "flex_flow": null,
            "grid_area": null,
            "grid_auto_columns": null,
            "grid_auto_flow": null,
            "grid_auto_rows": null,
            "grid_column": null,
            "grid_gap": null,
            "grid_row": null,
            "grid_template_areas": null,
            "grid_template_columns": null,
            "grid_template_rows": null,
            "height": null,
            "justify_content": null,
            "justify_items": null,
            "left": null,
            "margin": null,
            "max_height": null,
            "max_width": null,
            "min_height": null,
            "min_width": null,
            "object_fit": null,
            "object_position": null,
            "order": null,
            "overflow": null,
            "overflow_x": null,
            "overflow_y": null,
            "padding": null,
            "right": null,
            "top": null,
            "visibility": null,
            "width": null
          }
        },
        "405e901ae03b47bfbee2158196941e48": {
          "model_module": "@jupyter-widgets/base",
          "model_name": "LayoutModel",
          "model_module_version": "1.2.0",
          "state": {
            "_model_module": "@jupyter-widgets/base",
            "_model_module_version": "1.2.0",
            "_model_name": "LayoutModel",
            "_view_count": null,
            "_view_module": "@jupyter-widgets/base",
            "_view_module_version": "1.2.0",
            "_view_name": "LayoutView",
            "align_content": null,
            "align_items": null,
            "align_self": null,
            "border": null,
            "bottom": null,
            "display": null,
            "flex": null,
            "flex_flow": null,
            "grid_area": null,
            "grid_auto_columns": null,
            "grid_auto_flow": null,
            "grid_auto_rows": null,
            "grid_column": null,
            "grid_gap": null,
            "grid_row": null,
            "grid_template_areas": null,
            "grid_template_columns": null,
            "grid_template_rows": null,
            "height": null,
            "justify_content": null,
            "justify_items": null,
            "left": null,
            "margin": null,
            "max_height": null,
            "max_width": null,
            "min_height": null,
            "min_width": null,
            "object_fit": null,
            "object_position": null,
            "order": null,
            "overflow": null,
            "overflow_x": null,
            "overflow_y": null,
            "padding": null,
            "right": null,
            "top": null,
            "visibility": null,
            "width": null
          }
        },
        "28609524a0c1411fa1b243c58231e01b": {
          "model_module": "@jupyter-widgets/controls",
          "model_name": "DescriptionStyleModel",
          "model_module_version": "1.5.0",
          "state": {
            "_model_module": "@jupyter-widgets/controls",
            "_model_module_version": "1.5.0",
            "_model_name": "DescriptionStyleModel",
            "_view_count": null,
            "_view_module": "@jupyter-widgets/base",
            "_view_module_version": "1.2.0",
            "_view_name": "StyleView",
            "description_width": ""
          }
        },
        "c10f0180de8c4845ba88db573edda43f": {
          "model_module": "@jupyter-widgets/base",
          "model_name": "LayoutModel",
          "model_module_version": "1.2.0",
          "state": {
            "_model_module": "@jupyter-widgets/base",
            "_model_module_version": "1.2.0",
            "_model_name": "LayoutModel",
            "_view_count": null,
            "_view_module": "@jupyter-widgets/base",
            "_view_module_version": "1.2.0",
            "_view_name": "LayoutView",
            "align_content": null,
            "align_items": null,
            "align_self": null,
            "border": null,
            "bottom": null,
            "display": null,
            "flex": null,
            "flex_flow": null,
            "grid_area": null,
            "grid_auto_columns": null,
            "grid_auto_flow": null,
            "grid_auto_rows": null,
            "grid_column": null,
            "grid_gap": null,
            "grid_row": null,
            "grid_template_areas": null,
            "grid_template_columns": null,
            "grid_template_rows": null,
            "height": null,
            "justify_content": null,
            "justify_items": null,
            "left": null,
            "margin": null,
            "max_height": null,
            "max_width": null,
            "min_height": null,
            "min_width": null,
            "object_fit": null,
            "object_position": null,
            "order": null,
            "overflow": null,
            "overflow_x": null,
            "overflow_y": null,
            "padding": null,
            "right": null,
            "top": null,
            "visibility": null,
            "width": null
          }
        },
        "0402d17acf0a4c5f8a8d5020eb3f62d5": {
          "model_module": "@jupyter-widgets/controls",
          "model_name": "ProgressStyleModel",
          "model_module_version": "1.5.0",
          "state": {
            "_model_module": "@jupyter-widgets/controls",
            "_model_module_version": "1.5.0",
            "_model_name": "ProgressStyleModel",
            "_view_count": null,
            "_view_module": "@jupyter-widgets/base",
            "_view_module_version": "1.2.0",
            "_view_name": "StyleView",
            "bar_color": null,
            "description_width": ""
          }
        },
        "f78667a6cf9d47f582115b8a50bcce20": {
          "model_module": "@jupyter-widgets/base",
          "model_name": "LayoutModel",
          "model_module_version": "1.2.0",
          "state": {
            "_model_module": "@jupyter-widgets/base",
            "_model_module_version": "1.2.0",
            "_model_name": "LayoutModel",
            "_view_count": null,
            "_view_module": "@jupyter-widgets/base",
            "_view_module_version": "1.2.0",
            "_view_name": "LayoutView",
            "align_content": null,
            "align_items": null,
            "align_self": null,
            "border": null,
            "bottom": null,
            "display": null,
            "flex": null,
            "flex_flow": null,
            "grid_area": null,
            "grid_auto_columns": null,
            "grid_auto_flow": null,
            "grid_auto_rows": null,
            "grid_column": null,
            "grid_gap": null,
            "grid_row": null,
            "grid_template_areas": null,
            "grid_template_columns": null,
            "grid_template_rows": null,
            "height": null,
            "justify_content": null,
            "justify_items": null,
            "left": null,
            "margin": null,
            "max_height": null,
            "max_width": null,
            "min_height": null,
            "min_width": null,
            "object_fit": null,
            "object_position": null,
            "order": null,
            "overflow": null,
            "overflow_x": null,
            "overflow_y": null,
            "padding": null,
            "right": null,
            "top": null,
            "visibility": null,
            "width": null
          }
        },
        "9c8090dabbf74b8fa78365ac35a630ff": {
          "model_module": "@jupyter-widgets/controls",
          "model_name": "DescriptionStyleModel",
          "model_module_version": "1.5.0",
          "state": {
            "_model_module": "@jupyter-widgets/controls",
            "_model_module_version": "1.5.0",
            "_model_name": "DescriptionStyleModel",
            "_view_count": null,
            "_view_module": "@jupyter-widgets/base",
            "_view_module_version": "1.2.0",
            "_view_name": "StyleView",
            "description_width": ""
          }
        }
      }
    }
  },
  "cells": [
    {
      "cell_type": "code",
      "execution_count": 2,
      "metadata": {
        "id": "RfM7iNTJxkqE"
      },
      "outputs": [],
      "source": [
        "import torch\n",
        "import torchvision\n",
        "import torch.nn as nn\n",
        "import torch.nn.functional as F\n",
        "from torch import optim\n",
        "import torch.nn.utils.prune as prune\n",
        "\n",
        "# from data import dataloaders\n",
        "# from net import resnet, resnet_for_cifar, params_to_prune\n",
        "# from main import Trainer, Tester\n",
        "\n",
        "# import os\n",
        "# from tqdm import tqdm\n",
        "# import numpy as np\n",
        "# import matplotlib.pyplot as plt"
      ]
    },
    {
      "cell_type": "code",
      "source": [
        "device = 'cuda' if torch.cuda.is_available() else 'cpu'\n",
        "\n",
        "cifar_pth = '/.cifar'\n",
        "if os.path.exists(cifar_pth):\n",
        "    os.mkdir(cifar_pth)\n",
        "\n",
        "resnet = resnet_for_cifar()\n",
        "resnet = resnet.to(device)\n",
        "\n",
        "loss_func = nn.CrossEntropyLoss()\n",
        "optimizer = optim.Adam(resnet.parameters(), lr=1e-3)\n",
        "\n",
        "trainer = Trainer(optimizer=optimizer, model=resnet, loss_func=loss_func)\n",
        "trainer.pruning(amnt=0.2)\n",
        "# trainer.freeze_10()\n",
        "# trainer.freeze_20()\n",
        "# trainer.freeze_30()\n",
        "tester = Tester(model=resnet, loss_func=loss_func)\n",
        "\n",
        "train_loss_per_epoch = []\n",
        "val_loss_per_epoch = []\n",
        "\n",
        "train_acc_per_epoch = []\n",
        "val_acc_per_epoch = []\n",
        "\n",
        "loader = dataloaders()\n",
        "train_dl = loader.return_traindl()\n",
        "val_dl = loader.return_testdl()\n",
        "\n",
        "best_training_acc = 0 # for a batch\n",
        "best_validation_acc = 0 # for a batch"
      ],
      "metadata": {
        "colab": {
          "base_uri": "https://localhost:8080/",
          "height": 104,
          "referenced_widgets": [
            "c9fc258fa74049d8a556e95f3a8085d3",
            "358ab7de92484660955972519925bfea",
            "4db5720bfcb24121b8bd5dea0a9d3936",
            "93484865bc314f54a7fbf8233a17f9e6",
            "695c57ea3cae4d6db6def7d1fcac67dd",
            "405e901ae03b47bfbee2158196941e48",
            "28609524a0c1411fa1b243c58231e01b",
            "c10f0180de8c4845ba88db573edda43f",
            "0402d17acf0a4c5f8a8d5020eb3f62d5",
            "f78667a6cf9d47f582115b8a50bcce20",
            "9c8090dabbf74b8fa78365ac35a630ff"
          ]
        },
        "id": "HpYKSX23wVCr",
        "outputId": "f8ffc606-50b5-4296-dccf-52823133f3eb"
      },
      "execution_count": null,
      "outputs": [
        {
          "output_type": "stream",
          "name": "stdout",
          "text": [
            "Downloading https://www.cs.toronto.edu/~kriz/cifar-10-python.tar.gz to ./cifar/cifar-10-python.tar.gz\n"
          ]
        },
        {
          "output_type": "display_data",
          "data": {
            "text/plain": [
              "  0%|          | 0/170498071 [00:00<?, ?it/s]"
            ],
            "application/vnd.jupyter.widget-view+json": {
              "version_major": 2,
              "version_minor": 0,
              "model_id": "c9fc258fa74049d8a556e95f3a8085d3"
            }
          },
          "metadata": {}
        },
        {
          "output_type": "stream",
          "name": "stdout",
          "text": [
            "Extracting ./cifar/cifar-10-python.tar.gz to ./cifar\n",
            "Files already downloaded and verified\n"
          ]
        }
      ]
    },
    {
      "cell_type": "code",
      "source": [
        "epochs = 600\n",
        "for epoch in tqdm(range(epochs)):\n",
        "\n",
        "    train_loss_per_loader = []\n",
        "    val_loss_per_loader = []\n",
        "\n",
        "    train_acc_per_loader = []\n",
        "    val_acc_per_loader = []\n",
        "\n",
        "    for train_data, val_data in zip(train_dl, val_dl):\n",
        "        train_img, train_label = train_data\n",
        "        train_img, train_label = train_img.to(device), train_label.to(device)\n",
        "        train_loss = trainer.train(train_img, train_label)\n",
        "        train_acc = trainer.check_accuracy()\n",
        "\n",
        "        val_img, val_label = val_data\n",
        "        val_img, val_label = val_img.to(device), val_label.to(device)\n",
        "        val_loss = tester.validate(val_img, val_label)\n",
        "        val_acc = tester.check_accuracy()\n",
        "\n",
        "        train_loss_per_loader.append(train_loss)\n",
        "        val_loss_per_loader.append(val_loss)\n",
        "\n",
        "        train_acc_per_loader.append(train_acc)\n",
        "        val_acc_per_loader.append(val_acc)\n",
        "\n",
        "        tester.save_model(filename='pruned_20.pth')\n",
        "\n",
        "    train_loss_per_epoch.append(np.mean(train_loss_per_loader))\n",
        "    val_loss_per_epoch.append(np.mean(val_loss_per_loader))\n",
        "\n",
        "    avg_train_acc = np.mean(train_acc_per_loader)\n",
        "    avg_val_acc = np.mean(val_acc_per_loader)\n",
        "\n",
        "    if avg_train_acc > best_training_acc:\n",
        "        best_training_acc = avg_train_acc\n",
        "\n",
        "    if avg_val_acc > best_validation_acc:\n",
        "        best_validation_acc = avg_val_acc\n",
        "\n",
        "    train_acc_per_epoch.append(avg_train_acc)\n",
        "    val_acc_per_epoch.append(avg_val_acc)\n",
        "\n",
        "    with open('train_loss.npy', 'wb') as f:\n",
        "        np.save(f, np.array(train_loss_per_epoch))\n",
        "    with open('val_loss.npy', 'wb') as f:\n",
        "        np.save(f, np.array(val_loss_per_epoch))\n",
        "\n",
        "    with open('train_acc.npy', 'wb') as f:\n",
        "        np.save(f, np.array(train_acc_per_epoch))\n",
        "    with open('val_acc.npy', 'wb') as f:\n",
        "        np.save(f, np.array(val_acc_per_epoch))\n",
        "\n",
        "    if (epoch + 1) % 10 == 0:\n",
        "        print(\n",
        "            f'Training Loss: {np.mean(train_loss_per_loader):.4f} Validation Loss: {np.mean(val_loss_per_loader):.4f}')\n",
        "        print(\n",
        "            f'Training Acc: {best_training_acc:.2f} Validation Acc: {best_validation_acc:.2f}')\n",
        "        trainer.check_sparsity()\n",
        "\n",
        "    plt.figure(dpi=300)\n",
        "    plt.tight_layout()\n",
        "    plt.plot(list(range(len(train_loss_per_epoch))), train_loss_per_epoch, label='train')\n",
        "    plt.plot(list(range(len(val_loss_per_epoch))), val_loss_per_epoch, label='val')\n",
        "    plt.legend(loc=\"upper left\")\n",
        "    plt.savefig('loss.png')\n",
        "\n",
        "    plt.figure(dpi=300)\n",
        "    plt.tight_layout()\n",
        "    plt.plot(list(range(len(train_acc_per_epoch))), train_acc_per_epoch, label='train')\n",
        "    plt.plot(list(range(len(val_acc_per_epoch))), val_acc_per_epoch, label='val')\n",
        "    plt.legend(loc=\"upper left\")\n",
        "    plt.savefig('acc.png')\n"
      ],
      "metadata": {
        "colab": {
          "base_uri": "https://localhost:8080/"
        },
        "id": "PL0HA7Rusw-J",
        "outputId": "49cdc47f-e66e-44dc-b218-113ef7ecfc4c"
      },
      "execution_count": null,
      "outputs": [
        {
          "output_type": "stream",
          "name": "stderr",
          "text": [
            "  2%|▏         | 9/600 [01:29<1:31:34,  9.30s/it]"
          ]
        },
        {
          "output_type": "stream",
          "name": "stdout",
          "text": [
            "Training Loss: 0.6173 Validation Loss: 0.6902\n",
            "Training Acc: 0.79 Validation Acc: 0.77\n",
            "Sparsity of the network is :19.999998092651367 %\n"
          ]
        },
        {
          "output_type": "stream",
          "name": "stderr",
          "text": [
            "\r  2%|▏         | 10/600 [01:38<1:29:19,  9.08s/it]/usr/local/lib/python3.7/dist-packages/ipykernel_launcher.py:61: RuntimeWarning: More than 20 figures have been opened. Figures created through the pyplot interface (`matplotlib.pyplot.figure`) are retained until explicitly closed and may consume too much memory. (To control this warning, see the rcParam `figure.max_open_warning`).\n",
            "/usr/local/lib/python3.7/dist-packages/ipykernel_launcher.py:68: RuntimeWarning: More than 20 figures have been opened. Figures created through the pyplot interface (`matplotlib.pyplot.figure`) are retained until explicitly closed and may consume too much memory. (To control this warning, see the rcParam `figure.max_open_warning`).\n",
            "  3%|▎         | 19/600 [02:56<1:25:16,  8.81s/it]"
          ]
        },
        {
          "output_type": "stream",
          "name": "stdout",
          "text": [
            "Training Loss: 0.4350 Validation Loss: 0.6464\n",
            "Training Acc: 0.86 Validation Acc: 0.80\n",
            "Sparsity of the network is :19.999998092651367 %\n"
          ]
        },
        {
          "output_type": "stream",
          "name": "stderr",
          "text": [
            "  5%|▍         | 29/600 [04:21<1:21:00,  8.51s/it]"
          ]
        },
        {
          "output_type": "stream",
          "name": "stdout",
          "text": [
            "Training Loss: 0.3258 Validation Loss: 0.6254\n",
            "Training Acc: 0.89 Validation Acc: 0.81\n",
            "Sparsity of the network is :19.999998092651367 %\n"
          ]
        },
        {
          "output_type": "stream",
          "name": "stderr",
          "text": [
            "  6%|▋         | 39/600 [05:48<1:21:39,  8.73s/it]"
          ]
        },
        {
          "output_type": "stream",
          "name": "stdout",
          "text": [
            "Training Loss: 0.2653 Validation Loss: 0.6563\n",
            "Training Acc: 0.91 Validation Acc: 0.81\n",
            "Sparsity of the network is :19.999998092651367 %\n"
          ]
        },
        {
          "output_type": "stream",
          "name": "stderr",
          "text": [
            "  8%|▊         | 49/600 [07:14<1:18:41,  8.57s/it]"
          ]
        },
        {
          "output_type": "stream",
          "name": "stdout",
          "text": [
            "Training Loss: 0.2251 Validation Loss: 0.6661\n",
            "Training Acc: 0.93 Validation Acc: 0.81\n",
            "Sparsity of the network is :19.999998092651367 %\n"
          ]
        },
        {
          "output_type": "stream",
          "name": "stderr",
          "text": [
            " 10%|▉         | 59/600 [08:40<1:17:14,  8.57s/it]"
          ]
        },
        {
          "output_type": "stream",
          "name": "stdout",
          "text": [
            "Training Loss: 0.1714 Validation Loss: 0.7090\n",
            "Training Acc: 0.94 Validation Acc: 0.82\n",
            "Sparsity of the network is :19.999998092651367 %\n"
          ]
        },
        {
          "output_type": "stream",
          "name": "stderr",
          "text": [
            " 12%|█▏        | 69/600 [10:06<1:16:06,  8.60s/it]"
          ]
        },
        {
          "output_type": "stream",
          "name": "stdout",
          "text": [
            "Training Loss: 0.1583 Validation Loss: 0.7513\n",
            "Training Acc: 0.95 Validation Acc: 0.82\n",
            "Sparsity of the network is :19.999998092651367 %\n"
          ]
        },
        {
          "output_type": "stream",
          "name": "stderr",
          "text": [
            " 13%|█▎        | 79/600 [11:32<1:14:23,  8.57s/it]"
          ]
        },
        {
          "output_type": "stream",
          "name": "stdout",
          "text": [
            "Training Loss: 0.1347 Validation Loss: 0.7962\n",
            "Training Acc: 0.96 Validation Acc: 0.82\n",
            "Sparsity of the network is :19.999998092651367 %\n"
          ]
        },
        {
          "output_type": "stream",
          "name": "stderr",
          "text": [
            " 15%|█▍        | 89/600 [12:58<1:13:16,  8.60s/it]"
          ]
        },
        {
          "output_type": "stream",
          "name": "stdout",
          "text": [
            "Training Loss: 0.1096 Validation Loss: 0.7765\n",
            "Training Acc: 0.97 Validation Acc: 0.82\n",
            "Sparsity of the network is :19.999998092651367 %\n"
          ]
        },
        {
          "output_type": "stream",
          "name": "stderr",
          "text": [
            " 16%|█▋        | 99/600 [14:24<1:11:41,  8.58s/it]"
          ]
        },
        {
          "output_type": "stream",
          "name": "stdout",
          "text": [
            "Training Loss: 0.1009 Validation Loss: 0.8776\n",
            "Training Acc: 0.97 Validation Acc: 0.82\n",
            "Sparsity of the network is :19.999998092651367 %\n"
          ]
        },
        {
          "output_type": "stream",
          "name": "stderr",
          "text": [
            " 17%|█▋        | 104/600 [15:07<1:11:13,  8.62s/it]"
          ]
        }
      ]
    },
    {
      "cell_type": "code",
      "source": [
        ""
      ],
      "metadata": {
        "id": "weUm1hFqYK2N"
      },
      "execution_count": null,
      "outputs": []
    },
    {
      "cell_type": "code",
      "source": [
        "t = torch.tensor([[1, 2, 3, 4, 5], [1, 2, 3, 4, 5], [1, 2, 3, 4, 5]])\n",
        "t"
      ],
      "metadata": {
        "id": "tLj89Iqks2QE",
        "colab": {
          "base_uri": "https://localhost:8080/"
        },
        "outputId": "24e05224-4b4e-4c3d-81a6-2b6a8f49d7b1"
      },
      "execution_count": 3,
      "outputs": [
        {
          "output_type": "execute_result",
          "data": {
            "text/plain": [
              "tensor([[1, 2, 3, 4, 5],\n",
              "        [1, 2, 3, 4, 5],\n",
              "        [1, 2, 3, 4, 5]])"
            ]
          },
          "metadata": {},
          "execution_count": 3
        }
      ]
    },
    {
      "cell_type": "code",
      "source": [
        "t.view(-1)[::2] = 0"
      ],
      "metadata": {
        "id": "qHBH3_0DYSHU"
      },
      "execution_count": 4,
      "outputs": []
    },
    {
      "cell_type": "code",
      "source": [
        ""
      ],
      "metadata": {
        "colab": {
          "base_uri": "https://localhost:8080/"
        },
        "id": "nlfh2eg6YdwA",
        "outputId": "e774605e-1a4e-4f37-acaa-150caaafa094"
      },
      "execution_count": 5,
      "outputs": [
        {
          "output_type": "execute_result",
          "data": {
            "text/plain": [
              "tensor([[0, 2, 0, 4, 0],\n",
              "        [1, 0, 3, 0, 5],\n",
              "        [0, 2, 0, 4, 0]])"
            ]
          },
          "metadata": {},
          "execution_count": 5
        }
      ]
    },
    {
      "cell_type": "code",
      "source": [
        ""
      ],
      "metadata": {
        "id": "CB5MmXETYeY0"
      },
      "execution_count": null,
      "outputs": []
    }
  ]
}